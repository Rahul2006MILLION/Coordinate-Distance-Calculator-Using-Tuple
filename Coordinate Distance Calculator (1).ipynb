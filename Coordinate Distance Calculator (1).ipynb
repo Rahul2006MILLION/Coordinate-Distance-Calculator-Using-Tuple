{
 "cells": [
  {
   "cell_type": "code",
   "execution_count": 1,
   "id": "87c8b69b-a7c1-4130-844d-53ef418683e8",
   "metadata": {},
   "outputs": [
    {
     "name": "stdin",
     "output_type": "stream",
     "text": [
      "Enter x1:  3\n",
      "Enter y1:  4\n",
      "Enter x2:  7\n",
      "Enter y2:  9\n"
     ]
    },
    {
     "name": "stdout",
     "output_type": "stream",
     "text": [
      "2D SPACE...\n",
      "Point 1: (3, 4)\n",
      "Point 2: (7, 9)\n",
      "Points: ((3, 4), (7, 9))\n",
      "Distance: 6.40\n"
     ]
    }
   ],
   "source": [
    "x1=int(input('Enter x1: '))\n",
    "y1=int(input(\"Enter y1: \"))\n",
    "x2=int(input(\"Enter x2: \"))\n",
    "y2=int(input(\"Enter y2: \"))\n",
    "print(\"2D SPACE...\")\n",
    "p1=(x1,y1)\n",
    "p2=(x2,y2)\n",
    "points=(p1,p2)\n",
    "print(f\"Point 1: {p1}\")\n",
    "print(f\"Point 2: {p2}\")\n",
    "print(f\"Points: {points}\")\n",
    "dist=((x2-x1)**2+(y2-y1)**2)**0.5\n",
    "print(f'Distance: {dist:2.2f}')"
   ]
  },
  {
   "cell_type": "markdown",
   "id": "acf369fa-d298-4f46-a9fa-68f095e9334a",
   "metadata": {},
   "source": [
    "Or By import math"
   ]
  },
  {
   "cell_type": "code",
   "execution_count": 2,
   "id": "d9c4028d-d74d-45ee-beb5-8998b651d76d",
   "metadata": {},
   "outputs": [
    {
     "name": "stdin",
     "output_type": "stream",
     "text": [
      "Enter x1:  3\n",
      "Enter y1:  4\n",
      "Enter x2:  7\n",
      "Enter y2:  9\n"
     ]
    },
    {
     "name": "stdout",
     "output_type": "stream",
     "text": [
      "2D SPACE...\n",
      "Point 1: (3, 4)\n",
      "Point 2: (7, 9)\n",
      "Points: ((3, 4), (7, 9))\n",
      "Distance: 6.40\n"
     ]
    }
   ],
   "source": [
    "import math\n",
    "x1=int(input('Enter x1: '))\n",
    "y1=int(input(\"Enter y1: \"))\n",
    "x2=int(input(\"Enter x2: \"))\n",
    "y2=int(input(\"Enter y2: \"))\n",
    "print(\"2D SPACE...\")\n",
    "p1=(x1,y1)\n",
    "p2=(x2,y2)\n",
    "points=(p1,p2)\n",
    "print(f\"Point 1: {p1}\")\n",
    "print(f\"Point 2: {p2}\")\n",
    "print(f\"Points: {points}\")\n",
    "dist=math.sqrt((x2-x1)**2 + (y2-y1)**2)\n",
    "print(f'Distance: {dist:2.2f}')"
   ]
  },
  {
   "cell_type": "code",
   "execution_count": null,
   "id": "a41ecd31-f331-435d-a394-096337b53b6a",
   "metadata": {},
   "outputs": [],
   "source": []
  }
 ],
 "metadata": {
  "kernelspec": {
   "display_name": "Python 3 (ipykernel)",
   "language": "python",
   "name": "python3"
  },
  "language_info": {
   "codemirror_mode": {
    "name": "ipython",
    "version": 3
   },
   "file_extension": ".py",
   "mimetype": "text/x-python",
   "name": "python",
   "nbconvert_exporter": "python",
   "pygments_lexer": "ipython3",
   "version": "3.12.4"
  }
 },
 "nbformat": 4,
 "nbformat_minor": 5
}
